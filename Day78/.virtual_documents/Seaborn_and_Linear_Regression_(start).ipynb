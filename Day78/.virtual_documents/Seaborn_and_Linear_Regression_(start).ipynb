





import pandas as pd
import matplotlib.pyplot as plt
import numpy as np
import seaborn as sns
from sklearn.linear_model import LinearRegression





pd.options.display.float_format = '{:,.2f}'.format

from pandas.plotting import register_matplotlib_converters
register_matplotlib_converters()





data = pd.read_csv('cost_revenue_dirty.csv')








data.head()


data.tail()


data.sample(4)


print(f"The dataset contains {data.shape[0]} rows and {data.shape[1]} columns")


data.isnull().sum()





# Now lets check if there is any duplicates in data
data.duplicated().sum()





# Now Lets check the data type of the columns
data.info()











# Lets Convert the USD_Production_Budget, USD_Worldwide_Gross, and USD_Domestic_Gross columns to a numeric

data['USD_Production_Budget'] = pd.to_numeric(data['USD_Production_Budget'].str.replace('$',',').str.replace(',',''))
data['USD_Worldwide_Gross'] = pd.to_numeric(data['USD_Worldwide_Gross'].str.replace('$',',').str.replace(',',''))
data['USD_Domestic_Gross'] = pd.to_numeric(data['USD_Domestic_Gross'].str.replace('$',',').str.replace(',',''))


data.info()





data['Release_Date']=pd.to_datetime(data['Release_Date'])


data.dtypes


data.head()








data.describe()


# What is the average production budget of the films in the data set?
data['USD_Production_Budget'].mean()


# What is the average worldwide gross revenue of films?
data['USD_Worldwide_Gross'].mean()


# What were the minimums for worldwide and domestic revenue?
print(data['USD_Worldwide_Gross'].min())
print(data['USD_Domestic_Gross'].min())


(data.shape[0]*25)//100


# Are the bottom 25% of films actually profitable or do they lose money?
sorted_data = data.sort_values(by='USD_Production_Budget')[:1347]


sorted_data['profit']=(sorted_data['USD_Domestic_Gross']+sorted_data['USD_Worldwide_Gross'])-sorted_data['USD_Production_Budget']


sorted_data['profit_categorised']=sorted_data['profit'].map(lambda x:"loss" if x<0  else "profit")


sorted_data['profit_categorised'].value_counts()


# What are the highest production budget and highest worldwide gross revenue of any film?

data.sort_values(by='USD_Production_Budget',ascending=False).head(1)


data.sort_values(by='USD_Worldwide_Gross',ascending=False).head(1)


# How much revenue did the lowest and highest budget films make?
data.sort_values(by='USD_Production_Budget',ascending=True).head(1)








nothing_domestic = data[data['USD_Domestic_Gross']==0]


nothing_domestic.shape


nothing_domestic.sort_values(by='USD_Production_Budget',ascending=False).head()





world_nothing=data[data['USD_Worldwide_Gross']==0]


world_nothing.shape


world_nothing.sort_values(by='USD_Production_Budget',ascending=False).head()











data.loc[(data['USD_Domestic_Gross']==0)&(data['USD_Worldwide_Gross']!=0)]


 data.query('USD_Domestic_Gross == 0 and USD_Worldwide_Gross != 0')


international_releases = data.query('USD_Domestic_Gross == 0 and USD_Worldwide_Gross != 0')
print(f'Number of international releases: {len(international_releases)}')
international_releases.tail()





# Date of Data Collection
scrape_date = pd.Timestamp('2018-5-1')


data.shape





future_releases = data[data['Release_Date']>scrape_date]


data[data['Release_Date']<scrape_date].query('USD_Domestic_Gross==0 and USD_Worldwide_Gross==0').shape





data_clean = data.drop(future_releases.index)


data_clean.head()





data_clean.query('USD_Production_Budget>USD_Worldwide_Gross').shape[0]/data_clean.shape[0]


money_losing = data_clean.loc[data_clean.USD_Production_Budget > data_clean.USD_Worldwide_Gross]
len(money_losing)/len(data_clean)





plt.figure(figsize=(8,4), dpi=200)
ax = sns.scatterplot(data=data_clean,
                     x='USD_Production_Budget', 
                     y='USD_Worldwide_Gross',
                     hue='USD_Worldwide_Gross', # colour
                     size='USD_Worldwide_Gross',) # dot size
 
ax.set(ylim=(0, 3000000000),
       xlim=(0, 450000000),
       ylabel='Revenue in $ billions',
       xlabel='Budget in $100 millions',)
 
plt.show()


plt.figure(figsize=(8,4), dpi=200)
 
# set styling on a single chart
with sns.axes_style('darkgrid'):
  ax = sns.scatterplot(data=data_clean,
                       x='USD_Production_Budget', 
                       y='USD_Worldwide_Gross',
                       hue='USD_Worldwide_Gross',
                       size='USD_Worldwide_Gross')
 
  ax.set(ylim=(0, 3000000000),
        xlim=(0, 450000000),
        ylabel='Revenue in $ billions',
        xlabel='Budget in $100 millions')





plt.figure(figsize=(8,4), dpi=200)
with sns.axes_style('darkgrid'):
    ax = sns.scatterplot(data=data_clean,
                     x='Release_Date', 
                     y='USD_Production_Budget',
                     hue='USD_Worldwide_Gross', # colour
                     size='USD_Worldwide_Gross',) # dot size
 
ax.set(ylim=(0, 450000000),
       xlim=(data_clean['Release_Date'].min(),data_clean['Release_Date'].max() ),
       ylabel='Budget in $100 millions',
       xlabel='Year',)
 
plt.show()





data_clean.head()


data_clean['Decade']=(pd.DatetimeIndex(data_clean['Release_Date']).year//10)*10


data_clean[['Release_Date','Decade']][:20].head()








data_clean['old_films and new_films']=data_clean['Decade'].map(lambda x: 'old_films' if x<=1969 else 'new_films' )


# 
print(f"prior to 1970 just  {data_clean[data_clean['old_films and new_films']=='old_films'].shape[0]} films where relesed")
old_films_data = data_clean[data_clean['old_films and new_films']=='old_films']


old_films_data.loc[old_films_data['USD_Production_Budget'].idxmax()]


new_films_data = data_clean[data_clean['old_films and new_films']=='new_films']


new_films_data.shape


data_clean.loc[data_clean['USD_Production_Budget'].idxmax()]





plt.figure(figsize=(8,4), dpi=200)
with sns.axes_style("whitegrid"):
  sns.regplot(data=old_films_data, 
            x='USD_Production_Budget', 
            y='USD_Worldwide_Gross',
            scatter_kws = {'alpha': 0.4},
            line_kws = {'color': 'black'})


plt.figure(figsize=(8,4), dpi=200)
with sns.axes_style("darkgrid"):
  ax=sns.regplot(data=new_films_data, 
            x='USD_Production_Budget', 
            y='USD_Worldwide_Gross',
            color='#2f4b7c',
            scatter_kws = {'alpha': 0.4},
            line_kws = {'color': '#ff7c43'})
ax.set(ylim=(new_films_data['USD_Worldwide_Gross'].min(), new_films_data['USD_Worldwide_Gross'].max()),
       xlim=(data_clean['USD_Production_Budget'].min(),data_clean['USD_Production_Budget'].max() ),
       ylabel="Revenue in $ billions",
       xlabel="Budget in $ millions",)
 
plt.show()





plt.figure(figsize=(8,4), dpi=200)
with sns.axes_style("darkgrid"):
  ax=sns.regplot(data=new_films_data, 
            x='USD_Production_Budget', 
            y='USD_Worldwide_Gross',
            color='#2f4b7c',
            scatter_kws = {'alpha': 0.4},
            line_kws = {'color': '#ff7c43'})
ax.set(ylim=(new_films_data['USD_Worldwide_Gross'].min(), new_films_data['USD_Worldwide_Gross'].max()),
       xlim=(data_clean['USD_Production_Budget'].min(),data_clean['USD_Production_Budget'].max() ),
       ylabel="Revenue in $ billions",
       xlabel="Budget in $ millions",)
 
plt.show()











reg = LinearRegression()


X=pd.DataFrame(old_films_data,columns=['USD_Production_Budget'])
y=pd.DataFrame(old_films_data,columns=['USD_Worldwide_Gross'])


reg.fit(X,y)


reg.intercept_


reg.coef_


reg.score(X,y)





regression = LinearRegression()


# Explanatory Variable(s) or Feature(s)
X=pd.DataFrame(new_films_data,columns=['USD_Production_Budget'])
# Response Variable or Target
y=pd.DataFrame(new_films_data,columns=['USD_Worldwide_Gross'])


# Find the best-fit line
regression.fit(X,y)


# Theta Zero
regression.intercept_


# Theta one
regression.coef_


# R-squared
regression.score(X, y)


22821538 + 1.64771314 * 350000000


budget = 350000000
revenue_estimate = regression.intercept_[0] + regression.coef_[0,0]*budget
revenue_estimate = round(revenue_estimate, -6)
print(f'The estimated revenue for a $350 film is around ${revenue_estimate:.10}.')


pre = np.array(350000000).reshape(-1, 1)
pre


regression.predict(pre)



