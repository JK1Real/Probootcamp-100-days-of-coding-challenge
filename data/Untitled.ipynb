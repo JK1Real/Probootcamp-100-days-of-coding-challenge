{
 "cells": [
  {
   "cell_type": "code",
   "execution_count": 1,
   "id": "e8fa8cc6-9ae8-48d4-adcc-0cb02b06e3a1",
   "metadata": {},
   "outputs": [],
   "source": [
    "import pandas as pd"
   ]
  },
  {
   "cell_type": "code",
   "execution_count": 2,
   "id": "9fc80bc1-fc70-47b6-beaf-c3e83d19ceeb",
   "metadata": {},
   "outputs": [],
   "source": [
    "data = pd.read_csv(\"college_salary_report.csv\")"
   ]
  },
  {
   "cell_type": "code",
   "execution_count": 3,
   "id": "1ca91918-51ab-465b-aad0-1efd286422fd",
   "metadata": {},
   "outputs": [
    {
     "data": {
      "text/html": [
       "<div>\n",
       "<style scoped>\n",
       "    .dataframe tbody tr th:only-of-type {\n",
       "        vertical-align: middle;\n",
       "    }\n",
       "\n",
       "    .dataframe tbody tr th {\n",
       "        vertical-align: top;\n",
       "    }\n",
       "\n",
       "    .dataframe thead th {\n",
       "        text-align: right;\n",
       "    }\n",
       "</style>\n",
       "<table border=\"1\" class=\"dataframe\">\n",
       "  <thead>\n",
       "    <tr style=\"text-align: right;\">\n",
       "      <th></th>\n",
       "      <th>Rank</th>\n",
       "      <th>Major</th>\n",
       "      <th>Degree Type</th>\n",
       "      <th>Early Career Pay</th>\n",
       "      <th>Mid-Career Pay</th>\n",
       "      <th>% High Meaning</th>\n",
       "    </tr>\n",
       "  </thead>\n",
       "  <tbody>\n",
       "    <tr>\n",
       "      <th>0</th>\n",
       "      <td>1</td>\n",
       "      <td>Petroleum Engineering</td>\n",
       "      <td>Bachelors</td>\n",
       "      <td>$97,500</td>\n",
       "      <td>$212,500</td>\n",
       "      <td>61%</td>\n",
       "    </tr>\n",
       "    <tr>\n",
       "      <th>1</th>\n",
       "      <td>2</td>\n",
       "      <td>Operations Research &amp; Industrial Engineering</td>\n",
       "      <td>Bachelors</td>\n",
       "      <td>$98,300</td>\n",
       "      <td>$191,800</td>\n",
       "      <td>21%</td>\n",
       "    </tr>\n",
       "    <tr>\n",
       "      <th>2</th>\n",
       "      <td>3</td>\n",
       "      <td>Interaction Design</td>\n",
       "      <td>Bachelors</td>\n",
       "      <td>$74,700</td>\n",
       "      <td>$173,600</td>\n",
       "      <td>54%</td>\n",
       "    </tr>\n",
       "    <tr>\n",
       "      <th>3</th>\n",
       "      <td>4</td>\n",
       "      <td>Applied Economics and Management</td>\n",
       "      <td>Bachelors</td>\n",
       "      <td>$76,500</td>\n",
       "      <td>$164,400</td>\n",
       "      <td>54%</td>\n",
       "    </tr>\n",
       "    <tr>\n",
       "      <th>4</th>\n",
       "      <td>5</td>\n",
       "      <td>Building Science</td>\n",
       "      <td>Bachelors</td>\n",
       "      <td>$69,000</td>\n",
       "      <td>$163,100</td>\n",
       "      <td>47%</td>\n",
       "    </tr>\n",
       "  </tbody>\n",
       "</table>\n",
       "</div>"
      ],
      "text/plain": [
       "   Rank                                         Major Degree Type  \\\n",
       "0     1                         Petroleum Engineering   Bachelors   \n",
       "1     2  Operations Research & Industrial Engineering   Bachelors   \n",
       "2     3                            Interaction Design   Bachelors   \n",
       "3     4              Applied Economics and Management   Bachelors   \n",
       "4     5                              Building Science   Bachelors   \n",
       "\n",
       "  Early Career Pay Mid-Career Pay % High Meaning  \n",
       "0          $97,500       $212,500            61%  \n",
       "1          $98,300       $191,800            21%  \n",
       "2          $74,700       $173,600            54%  \n",
       "3          $76,500       $164,400            54%  \n",
       "4          $69,000       $163,100            47%  "
      ]
     },
     "execution_count": 3,
     "metadata": {},
     "output_type": "execute_result"
    }
   ],
   "source": [
    "data.head()"
   ]
  },
  {
   "cell_type": "code",
   "execution_count": 4,
   "id": "8f4f6698-d371-4943-b9e3-fb0c597a318f",
   "metadata": {},
   "outputs": [
    {
     "data": {
      "text/plain": [
       "Rank                0\n",
       "Major               0\n",
       "Degree Type         0\n",
       "Early Career Pay    0\n",
       "Mid-Career Pay      0\n",
       "% High Meaning      0\n",
       "dtype: int64"
      ]
     },
     "execution_count": 4,
     "metadata": {},
     "output_type": "execute_result"
    }
   ],
   "source": [
    "data.isnull().sum()"
   ]
  },
  {
   "cell_type": "code",
   "execution_count": 5,
   "id": "064489e7-35f4-4ca3-834d-05698c65a301",
   "metadata": {},
   "outputs": [
    {
     "data": {
      "text/plain": [
       "0"
      ]
     },
     "execution_count": 5,
     "metadata": {},
     "output_type": "execute_result"
    }
   ],
   "source": [
    "data.duplicated().sum()"
   ]
  },
  {
   "cell_type": "code",
   "execution_count": 6,
   "id": "d833e204-8faf-4508-ae7a-1cd0abb36c57",
   "metadata": {},
   "outputs": [
    {
     "data": {
      "text/plain": [
       "Index(['Rank', 'Major', 'Degree Type', 'Early Career Pay', 'Mid-Career Pay',\n",
       "       '% High Meaning'],\n",
       "      dtype='object')"
      ]
     },
     "execution_count": 6,
     "metadata": {},
     "output_type": "execute_result"
    }
   ],
   "source": [
    "data.columns"
   ]
  },
  {
   "cell_type": "code",
   "execution_count": 28,
   "id": "21bd9a49-9d82-47d4-8406-523baa73c3a7",
   "metadata": {},
   "outputs": [
    {
     "data": {
      "text/plain": [
       "319"
      ]
     },
     "execution_count": 28,
     "metadata": {},
     "output_type": "execute_result"
    }
   ],
   "source": [
    "data['Early Career Pay'].nunique()"
   ]
  },
  {
   "cell_type": "code",
   "execution_count": 29,
   "id": "12fd990b-dcaf-4cc7-9985-e5d528626815",
   "metadata": {},
   "outputs": [
    {
     "data": {
      "text/plain": [
       "(674, 6)"
      ]
     },
     "execution_count": 29,
     "metadata": {},
     "output_type": "execute_result"
    }
   ],
   "source": [
    "data.shape"
   ]
  },
  {
   "cell_type": "code",
   "execution_count": 40,
   "id": "72449501-21f8-4772-a18b-0d54860a372b",
   "metadata": {},
   "outputs": [],
   "source": [
    "copied_data = data.copy()"
   ]
  },
  {
   "cell_type": "code",
   "execution_count": 41,
   "id": "9c386883-ffdd-4966-8400-fb687fe0d890",
   "metadata": {},
   "outputs": [
    {
     "data": {
      "text/html": [
       "<div>\n",
       "<style scoped>\n",
       "    .dataframe tbody tr th:only-of-type {\n",
       "        vertical-align: middle;\n",
       "    }\n",
       "\n",
       "    .dataframe tbody tr th {\n",
       "        vertical-align: top;\n",
       "    }\n",
       "\n",
       "    .dataframe thead th {\n",
       "        text-align: right;\n",
       "    }\n",
       "</style>\n",
       "<table border=\"1\" class=\"dataframe\">\n",
       "  <thead>\n",
       "    <tr style=\"text-align: right;\">\n",
       "      <th></th>\n",
       "      <th>Rank</th>\n",
       "      <th>Major</th>\n",
       "      <th>Degree Type</th>\n",
       "      <th>Early Career Pay</th>\n",
       "      <th>Mid-Career Pay</th>\n",
       "      <th>% High Meaning</th>\n",
       "    </tr>\n",
       "  </thead>\n",
       "  <tbody>\n",
       "    <tr>\n",
       "      <th>0</th>\n",
       "      <td>1</td>\n",
       "      <td>Petroleum Engineering</td>\n",
       "      <td>Bachelors</td>\n",
       "      <td>$97,500</td>\n",
       "      <td>$212,500</td>\n",
       "      <td>61%</td>\n",
       "    </tr>\n",
       "    <tr>\n",
       "      <th>1</th>\n",
       "      <td>2</td>\n",
       "      <td>Operations Research &amp; Industrial Engineering</td>\n",
       "      <td>Bachelors</td>\n",
       "      <td>$98,300</td>\n",
       "      <td>$191,800</td>\n",
       "      <td>21%</td>\n",
       "    </tr>\n",
       "    <tr>\n",
       "      <th>2</th>\n",
       "      <td>3</td>\n",
       "      <td>Interaction Design</td>\n",
       "      <td>Bachelors</td>\n",
       "      <td>$74,700</td>\n",
       "      <td>$173,600</td>\n",
       "      <td>54%</td>\n",
       "    </tr>\n",
       "    <tr>\n",
       "      <th>3</th>\n",
       "      <td>4</td>\n",
       "      <td>Applied Economics and Management</td>\n",
       "      <td>Bachelors</td>\n",
       "      <td>$76,500</td>\n",
       "      <td>$164,400</td>\n",
       "      <td>54%</td>\n",
       "    </tr>\n",
       "    <tr>\n",
       "      <th>4</th>\n",
       "      <td>5</td>\n",
       "      <td>Building Science</td>\n",
       "      <td>Bachelors</td>\n",
       "      <td>$69,000</td>\n",
       "      <td>$163,100</td>\n",
       "      <td>47%</td>\n",
       "    </tr>\n",
       "  </tbody>\n",
       "</table>\n",
       "</div>"
      ],
      "text/plain": [
       "   Rank                                         Major Degree Type  \\\n",
       "0     1                         Petroleum Engineering   Bachelors   \n",
       "1     2  Operations Research & Industrial Engineering   Bachelors   \n",
       "2     3                            Interaction Design   Bachelors   \n",
       "3     4              Applied Economics and Management   Bachelors   \n",
       "4     5                              Building Science   Bachelors   \n",
       "\n",
       "  Early Career Pay Mid-Career Pay % High Meaning  \n",
       "0          $97,500       $212,500            61%  \n",
       "1          $98,300       $191,800            21%  \n",
       "2          $74,700       $173,600            54%  \n",
       "3          $76,500       $164,400            54%  \n",
       "4          $69,000       $163,100            47%  "
      ]
     },
     "execution_count": 41,
     "metadata": {},
     "output_type": "execute_result"
    }
   ],
   "source": [
    "copied_data.head()"
   ]
  },
  {
   "cell_type": "code",
   "execution_count": 58,
   "id": "c5b363e6-e23e-4368-ad14-fefe20b01c04",
   "metadata": {},
   "outputs": [],
   "source": [
    "copied_data['Early Career Pay'] = copied_data['Early Career Pay'].str.split('$').map(lambda x:int(x[-1].replace(',','')))"
   ]
  },
  {
   "cell_type": "code",
   "execution_count": 60,
   "id": "962064dc-705b-446c-ab62-ac89e4eaf247",
   "metadata": {},
   "outputs": [],
   "source": [
    "copied_data['Mid-Career Pay'] = copied_data['Mid-Career Pay'].str.split('$').map(lambda x:int(x[-1].replace(',','')))"
   ]
  },
  {
   "cell_type": "code",
   "execution_count": null,
   "id": "eeb07738-5255-49a2-9b7b-7a3c9eff24f7",
   "metadata": {},
   "outputs": [],
   "source": []
  },
  {
   "cell_type": "code",
   "execution_count": 78,
   "id": "b23511f1-523c-4958-a945-0ce2f29adaa3",
   "metadata": {},
   "outputs": [],
   "source": [
    "import numpy as np\n",
    "copied_data['% High Meaning'] = copied_data['% High Meaning'].replace('-',np.nan)"
   ]
  },
  {
   "cell_type": "code",
   "execution_count": 83,
   "id": "9c14a32a-84d7-41b4-a47d-d644b2d87ada",
   "metadata": {},
   "outputs": [
    {
     "data": {
      "text/plain": [
       "Rank                 0\n",
       "Major                0\n",
       "Degree Type          0\n",
       "Early Career Pay     0\n",
       "Mid-Career Pay       0\n",
       "% High Meaning      50\n",
       "dtype: int64"
      ]
     },
     "execution_count": 83,
     "metadata": {},
     "output_type": "execute_result"
    }
   ],
   "source": [
    "copied_data.isnull().sum()"
   ]
  },
  {
   "cell_type": "code",
   "execution_count": 85,
   "id": "c5c9ca08-363d-4b0b-a32d-19a3a29cd438",
   "metadata": {},
   "outputs": [],
   "source": [
    "copied_data = copied_data.dropna()"
   ]
  },
  {
   "cell_type": "code",
   "execution_count": 86,
   "id": "bf0df8db-65f8-41f4-9491-bf4050122f2b",
   "metadata": {},
   "outputs": [
    {
     "data": {
      "text/plain": [
       "Rank                0\n",
       "Major               0\n",
       "Degree Type         0\n",
       "Early Career Pay    0\n",
       "Mid-Career Pay      0\n",
       "% High Meaning      0\n",
       "dtype: int64"
      ]
     },
     "execution_count": 86,
     "metadata": {},
     "output_type": "execute_result"
    }
   ],
   "source": [
    "copied_data.isnull().sum()"
   ]
  },
  {
   "cell_type": "code",
   "execution_count": 88,
   "id": "f223f062-6a05-44de-a819-8a9544788f8e",
   "metadata": {},
   "outputs": [],
   "source": [
    "copied_data['% High Meaning'] = copied_data['% High Meaning'].str.split('%').map(lambda x: int(x[0]))"
   ]
  },
  {
   "cell_type": "code",
   "execution_count": 90,
   "id": "38eabf54-83c5-42db-a42d-6fb38df74c14",
   "metadata": {},
   "outputs": [
    {
     "data": {
      "text/plain": [
       "Rank                 int64\n",
       "Major               object\n",
       "Degree Type         object\n",
       "Early Career Pay     int64\n",
       "Mid-Career Pay       int64\n",
       "% High Meaning       int64\n",
       "dtype: object"
      ]
     },
     "execution_count": 90,
     "metadata": {},
     "output_type": "execute_result"
    }
   ],
   "source": [
    "copied_data.dtypes"
   ]
  },
  {
   "cell_type": "code",
   "execution_count": 97,
   "id": "22f86ed3-d6ba-46e5-80e5-815d5510fcdf",
   "metadata": {
    "scrolled": true
   },
   "outputs": [
    {
     "data": {
      "text/html": [
       "<div>\n",
       "<style scoped>\n",
       "    .dataframe tbody tr th:only-of-type {\n",
       "        vertical-align: middle;\n",
       "    }\n",
       "\n",
       "    .dataframe tbody tr th {\n",
       "        vertical-align: top;\n",
       "    }\n",
       "\n",
       "    .dataframe thead th {\n",
       "        text-align: right;\n",
       "    }\n",
       "</style>\n",
       "<table border=\"1\" class=\"dataframe\">\n",
       "  <thead>\n",
       "    <tr style=\"text-align: right;\">\n",
       "      <th></th>\n",
       "      <th>Early Career Pay</th>\n",
       "      <th>Mid-Career Pay</th>\n",
       "      <th>% High Meaning</th>\n",
       "    </tr>\n",
       "    <tr>\n",
       "      <th>Major</th>\n",
       "      <th></th>\n",
       "      <th></th>\n",
       "      <th></th>\n",
       "    </tr>\n",
       "  </thead>\n",
       "  <tbody>\n",
       "    <tr>\n",
       "      <th>Physician Assistant Studies</th>\n",
       "      <td>109600.0</td>\n",
       "      <td>136500.0</td>\n",
       "      <td>83.0</td>\n",
       "    </tr>\n",
       "    <tr>\n",
       "      <th>Operations Research &amp; Industrial Engineering</th>\n",
       "      <td>98300.0</td>\n",
       "      <td>191800.0</td>\n",
       "      <td>21.0</td>\n",
       "    </tr>\n",
       "    <tr>\n",
       "      <th>Petroleum Engineering</th>\n",
       "      <td>97500.0</td>\n",
       "      <td>212500.0</td>\n",
       "      <td>61.0</td>\n",
       "    </tr>\n",
       "    <tr>\n",
       "      <th>Nuclear Engineering Technology (NET)</th>\n",
       "      <td>92500.0</td>\n",
       "      <td>122800.0</td>\n",
       "      <td>54.0</td>\n",
       "    </tr>\n",
       "    <tr>\n",
       "      <th>Operations Research</th>\n",
       "      <td>92200.0</td>\n",
       "      <td>160000.0</td>\n",
       "      <td>57.0</td>\n",
       "    </tr>\n",
       "    <tr>\n",
       "      <th>...</th>\n",
       "      <td>...</td>\n",
       "      <td>...</td>\n",
       "      <td>...</td>\n",
       "    </tr>\n",
       "    <tr>\n",
       "      <th>Early Childhood Education</th>\n",
       "      <td>41700.0</td>\n",
       "      <td>50600.0</td>\n",
       "      <td>77.0</td>\n",
       "    </tr>\n",
       "    <tr>\n",
       "      <th>Child &amp; Family Studies</th>\n",
       "      <td>41600.0</td>\n",
       "      <td>52700.0</td>\n",
       "      <td>73.0</td>\n",
       "    </tr>\n",
       "    <tr>\n",
       "      <th>Rehabilitation Services</th>\n",
       "      <td>41300.0</td>\n",
       "      <td>67600.0</td>\n",
       "      <td>74.0</td>\n",
       "    </tr>\n",
       "    <tr>\n",
       "      <th>Equine Studies</th>\n",
       "      <td>40300.0</td>\n",
       "      <td>52500.0</td>\n",
       "      <td>50.0</td>\n",
       "    </tr>\n",
       "    <tr>\n",
       "      <th>Painting &amp; Printmaking</th>\n",
       "      <td>39300.0</td>\n",
       "      <td>82600.0</td>\n",
       "      <td>46.0</td>\n",
       "    </tr>\n",
       "  </tbody>\n",
       "</table>\n",
       "<p>624 rows × 3 columns</p>\n",
       "</div>"
      ],
      "text/plain": [
       "                                              Early Career Pay  \\\n",
       "Major                                                            \n",
       "Physician Assistant Studies                           109600.0   \n",
       "Operations Research & Industrial Engineering           98300.0   \n",
       "Petroleum Engineering                                  97500.0   \n",
       "Nuclear Engineering Technology (NET)                   92500.0   \n",
       "Operations Research                                    92200.0   \n",
       "...                                                        ...   \n",
       "Early Childhood Education                              41700.0   \n",
       "Child & Family Studies                                 41600.0   \n",
       "Rehabilitation Services                                41300.0   \n",
       "Equine Studies                                         40300.0   \n",
       "Painting & Printmaking                                 39300.0   \n",
       "\n",
       "                                              Mid-Career Pay  % High Meaning  \n",
       "Major                                                                         \n",
       "Physician Assistant Studies                         136500.0            83.0  \n",
       "Operations Research & Industrial Engineering        191800.0            21.0  \n",
       "Petroleum Engineering                               212500.0            61.0  \n",
       "Nuclear Engineering Technology (NET)                122800.0            54.0  \n",
       "Operations Research                                 160000.0            57.0  \n",
       "...                                                      ...             ...  \n",
       "Early Childhood Education                            50600.0            77.0  \n",
       "Child & Family Studies                               52700.0            73.0  \n",
       "Rehabilitation Services                              67600.0            74.0  \n",
       "Equine Studies                                       52500.0            50.0  \n",
       "Painting & Printmaking                               82600.0            46.0  \n",
       "\n",
       "[624 rows x 3 columns]"
      ]
     },
     "execution_count": 97,
     "metadata": {},
     "output_type": "execute_result"
    }
   ],
   "source": [
    "copied_data.groupby(by=['Major'])[['Early Career Pay', 'Mid-Career Pay','% High Meaning']].mean().sort_values(by=['Early Career Pay'], ascending=False)"
   ]
  },
  {
   "cell_type": "code",
   "execution_count": 98,
   "id": "d4089e49-dad3-471e-879a-2800ad7337fa",
   "metadata": {},
   "outputs": [
    {
     "data": {
      "text/html": [
       "<div>\n",
       "<style scoped>\n",
       "    .dataframe tbody tr th:only-of-type {\n",
       "        vertical-align: middle;\n",
       "    }\n",
       "\n",
       "    .dataframe tbody tr th {\n",
       "        vertical-align: top;\n",
       "    }\n",
       "\n",
       "    .dataframe thead th {\n",
       "        text-align: right;\n",
       "    }\n",
       "</style>\n",
       "<table border=\"1\" class=\"dataframe\">\n",
       "  <thead>\n",
       "    <tr style=\"text-align: right;\">\n",
       "      <th></th>\n",
       "      <th>Early Career Pay</th>\n",
       "      <th>Mid-Career Pay</th>\n",
       "      <th>% High Meaning</th>\n",
       "    </tr>\n",
       "    <tr>\n",
       "      <th>Major</th>\n",
       "      <th></th>\n",
       "      <th></th>\n",
       "      <th></th>\n",
       "    </tr>\n",
       "  </thead>\n",
       "  <tbody>\n",
       "    <tr>\n",
       "      <th>Painting &amp; Printmaking</th>\n",
       "      <td>39300.0</td>\n",
       "      <td>82600.0</td>\n",
       "      <td>46.0</td>\n",
       "    </tr>\n",
       "    <tr>\n",
       "      <th>Equine Studies</th>\n",
       "      <td>40300.0</td>\n",
       "      <td>52500.0</td>\n",
       "      <td>50.0</td>\n",
       "    </tr>\n",
       "    <tr>\n",
       "      <th>Rehabilitation Services</th>\n",
       "      <td>41300.0</td>\n",
       "      <td>67600.0</td>\n",
       "      <td>74.0</td>\n",
       "    </tr>\n",
       "    <tr>\n",
       "      <th>Child &amp; Family Studies</th>\n",
       "      <td>41600.0</td>\n",
       "      <td>52700.0</td>\n",
       "      <td>73.0</td>\n",
       "    </tr>\n",
       "    <tr>\n",
       "      <th>Early Childhood Education</th>\n",
       "      <td>41700.0</td>\n",
       "      <td>50600.0</td>\n",
       "      <td>77.0</td>\n",
       "    </tr>\n",
       "    <tr>\n",
       "      <th>...</th>\n",
       "      <td>...</td>\n",
       "      <td>...</td>\n",
       "      <td>...</td>\n",
       "    </tr>\n",
       "    <tr>\n",
       "      <th>Operations Research</th>\n",
       "      <td>92200.0</td>\n",
       "      <td>160000.0</td>\n",
       "      <td>57.0</td>\n",
       "    </tr>\n",
       "    <tr>\n",
       "      <th>Nuclear Engineering Technology (NET)</th>\n",
       "      <td>92500.0</td>\n",
       "      <td>122800.0</td>\n",
       "      <td>54.0</td>\n",
       "    </tr>\n",
       "    <tr>\n",
       "      <th>Petroleum Engineering</th>\n",
       "      <td>97500.0</td>\n",
       "      <td>212500.0</td>\n",
       "      <td>61.0</td>\n",
       "    </tr>\n",
       "    <tr>\n",
       "      <th>Operations Research &amp; Industrial Engineering</th>\n",
       "      <td>98300.0</td>\n",
       "      <td>191800.0</td>\n",
       "      <td>21.0</td>\n",
       "    </tr>\n",
       "    <tr>\n",
       "      <th>Physician Assistant Studies</th>\n",
       "      <td>109600.0</td>\n",
       "      <td>136500.0</td>\n",
       "      <td>83.0</td>\n",
       "    </tr>\n",
       "  </tbody>\n",
       "</table>\n",
       "<p>624 rows × 3 columns</p>\n",
       "</div>"
      ],
      "text/plain": [
       "                                              Early Career Pay  \\\n",
       "Major                                                            \n",
       "Painting & Printmaking                                 39300.0   \n",
       "Equine Studies                                         40300.0   \n",
       "Rehabilitation Services                                41300.0   \n",
       "Child & Family Studies                                 41600.0   \n",
       "Early Childhood Education                              41700.0   \n",
       "...                                                        ...   \n",
       "Operations Research                                    92200.0   \n",
       "Nuclear Engineering Technology (NET)                   92500.0   \n",
       "Petroleum Engineering                                  97500.0   \n",
       "Operations Research & Industrial Engineering           98300.0   \n",
       "Physician Assistant Studies                           109600.0   \n",
       "\n",
       "                                              Mid-Career Pay  % High Meaning  \n",
       "Major                                                                         \n",
       "Painting & Printmaking                               82600.0            46.0  \n",
       "Equine Studies                                       52500.0            50.0  \n",
       "Rehabilitation Services                              67600.0            74.0  \n",
       "Child & Family Studies                               52700.0            73.0  \n",
       "Early Childhood Education                            50600.0            77.0  \n",
       "...                                                      ...             ...  \n",
       "Operations Research                                 160000.0            57.0  \n",
       "Nuclear Engineering Technology (NET)                122800.0            54.0  \n",
       "Petroleum Engineering                               212500.0            61.0  \n",
       "Operations Research & Industrial Engineering        191800.0            21.0  \n",
       "Physician Assistant Studies                         136500.0            83.0  \n",
       "\n",
       "[624 rows x 3 columns]"
      ]
     },
     "execution_count": 98,
     "metadata": {},
     "output_type": "execute_result"
    }
   ],
   "source": [
    "copied_data.groupby(by=['Major'])[['Early Career Pay', 'Mid-Career Pay','% High Meaning']].mean().sort_values(by=['Early Career Pay'], ascending=True)"
   ]
  },
  {
   "cell_type": "code",
   "execution_count": null,
   "id": "22f70101-4ac0-449d-8c11-aaaa56f1f802",
   "metadata": {},
   "outputs": [],
   "source": []
  }
 ],
 "metadata": {
  "kernelspec": {
   "display_name": "Python 3 (ipykernel)",
   "language": "python",
   "name": "python3"
  },
  "language_info": {
   "codemirror_mode": {
    "name": "ipython",
    "version": 3
   },
   "file_extension": ".py",
   "mimetype": "text/x-python",
   "name": "python",
   "nbconvert_exporter": "python",
   "pygments_lexer": "ipython3",
   "version": "3.11.5"
  }
 },
 "nbformat": 4,
 "nbformat_minor": 5
}
