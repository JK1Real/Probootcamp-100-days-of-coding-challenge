





import numpy as np

import matplotlib.pyplot as plt
from scipy import misc # contains an image of a racoon!
from PIL import Image # for reading image files








# Create new ndarray from scratch
my_array = np.array([1.1, 9.2, 8.1, 4.7])


# Shows rows and columns
my_array.shape


# Accessing elements by index
my_array[2]


# Show dimensions of a array
my_array.ndim





array_2d = np.array([[1, 2, 3, 9], 
                     [5, 6, 7, 8]])


print(f'array_2d has {array_2d.ndim} dimensions')
print(f'Its shape is {array_2d.shape}')
print(f'It has {array_2d.shape[0]} rows and {array_2d.shape[1]} columns')
print(array_2d)





mystery_array = np.array([[[0, 1, 2, 3],
                           [4, 5, 6, 7]],
                        
                         [[7, 86, 6, 98],
                          [5, 1, 0, 4]],
                          
                          [[5, 36, 32, 48],
                           [97, 0, 27, 18]]])

# Note all the square brackets!


# How many dimensions does the array below have?
print(f"mystery_array has {mystery_array.ndim} dimensions")


# What is its shape
print(f"The shape is {mystery_array.shape}")


# Try to access the value 18 in the last line of code.
mystery_array[2,1,3]


#Try to retrieve a 1 dimensional vector with the values [97, 0, 27, 18]
mystery_array[2,1,:]


# Try to retrieve a (3,2) matrix with the values [[ 0,  4], [ 7,  5], [ 5, 97]]
mystery_array[:,:,0]








a=np.arange(10,30)
a





# Create an array containing only the last 3 values of a
a[-3:]


# Create a subset with only the 4th, 5th, and 6th values
a[3:6]


# Create a subset of a containing all the values except for the first 12 (i.e., [22, 23, 24, 25, 26, 27, 28, 29])
a[12:]


# Create a subset that only contains the even numbers (i.e, every second number)
a[::2]





a[::-1]





arr = [6,0,9,0,0,5,0]


[i for i in arr if i!=0]





np.random.random((3,3,3))








xvalues = np.linspace(start=0,stop=100,num=9)
xvalues





yvalues = np.linspace(start=-3,stop=3,num=9)
yvalues


plt.plot(xvalues,yvalues)





noise = np.random.random((128,128,3))


print(noise.shape)
plt.imshow(noise)





v1 = np.array([4, 5, 2, 7])
v2 = np.array([2, 1, 3, 3])


# Python Lists vs ndarrays
list1 = [4, 5, 2, 7]
list2 = [2, 1, 3, 3]


# Adding list together would just concatenate the lists.
list1+list2


# Multiplying the two vectors together also results in an element by element operation
v1*v2








array_2d = np.array([[1, 2, 3, 4], 
                     [5, 6, 7, 8]])


array_2d+10


array_2d*10





a1 = np.array([[1, 3],
               [0, 1],
               [6, 2],
               [9, 7]])

b1 = np.array([[4, 1, 3],
               [5, 8, 5]])

print(f'{a1.shape}: a has {a1.shape[0]} rows and {a1.shape[1]} columns.')
print(f'{b1.shape}: b has {b1.shape[0]} rows and {b1.shape[1]} columns.')
print('Dimensions of result: (4x2)*(2x3)=(4x3)')





a1@b1


np.matmul(a1,b1)








img = misc.face()
plt.imshow(img)


# data type of img
type(img)


# shape of img
img.shape


# how many dimensions 
img.ndim





grey_vals = np.array([0.2126, 0.7152, 0.0722])


# Y_linear is what we're after - our black and white image. However, this formula only works if our red, green and blue values are between 0 and 1 - namely in sRGB format. Currently the values in our img range from 0 to 255.
for_black_img = img/255


black_img = for_black_img@grey_vals


plt.imshow(black_img,cmap='gray')








plt.imshow(np.flip(img), cmap='gray')


plt.imshow(np.rot90(img))


plt.imshow(255-img)





file_name = 'yummy_macarons.jpg'








img=Image.open(file_name)


img_array = np.array(img)


img_array.ndim


plt.imshow(img_array)


plt.imshow(255-img_array)



