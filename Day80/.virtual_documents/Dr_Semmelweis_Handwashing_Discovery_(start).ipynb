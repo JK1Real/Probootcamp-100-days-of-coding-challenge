











# %pip install --upgrade plotly





import pandas as pd
import numpy as np
import plotly.express as px
import seaborn as sns
import matplotlib.pyplot as plt
import matplotlib.dates as mdates





pd.options.display.float_format = '{:,.2f}'.format

# Create locators for ticks on the time axis


from pandas.plotting import register_matplotlib_converters
register_matplotlib_converters()





df_yearly = pd.read_csv('annual_deaths_by_clinic.csv')
# parse_dates avoids DateTime conversion later
df_monthly = pd.read_csv('monthly_deaths.csv', 
                      parse_dates=['date'])





df_monthly.head(2)


df_monthly.tail(2)


df_monthly.sample(2)


df_yearly.head()


df_yearly.tail()


df_yearly.sample(5)


print(f"shape of year data is {df_yearly.shape}")
print(f"Shape of monthly data is {df_monthly.shape}")


print(f"column names of year data is {df_yearly.columns}")
print(f"column names of  monthly data is {df_monthly.columns}")


df_monthly.info()


df_yearly.info()


df_yearly['year'].unique()


df_monthly['date'].dt.year.unique()





df_monthly.isnull().sum()


df_monthly.duplicated().sum()


df_yearly.isnull().sum()


df_yearly.duplicated().sum()


df_monthly['births'].mean()


df_monthly['deaths'].mean()





df_monthly.describe()


df_yearly.describe()








prob = df_yearly.deaths.sum() / df_yearly.births.sum() * 100
prob


print(f'Chances of dying in the 1840s in Vienna: {prob:.3}%')











years=mdates.YearLocator()
months=mdates.MonthLocator()
year_fmt=mdates.DateFormatter('%Y')





plt.figure(figsize=(14,8), dpi=200)
plt.title('Total Number of Monthly Births and Deaths', fontsize=18)

ax1 = plt.gca()
ax2=ax1.twinx()

ax1.grid(color='grey', linestyle='--')

ax1.plot(df_monthly['date'],df_monthly['births'],color='skyblue',linewidth=3)
ax2.plot(df_monthly['date'],df_monthly['deaths'],color='crimson',linestyle='dashed',linewidth=2)

ax1.xaxis.set_major_locator(years)
ax1.xaxis.set_major_formatter(year_fmt)
ax1.xaxis.set_minor_locator(months)

plt.show()








fig = px.line(data_frame=df_yearly,
        x='year',
        y='births',
        color='clinic'
             )
fig.show()


fig = px.line(data_frame=df_yearly,
        x='year',
        y='deaths',
        color='clinic',
        title='Total Yearly deaths by Clinic'
             )
fig.show()








df_yearly["pct_deaths"]=(df_yearly['deaths']/df_yearly['births'])*100


df_yearly


clinic_1 = df_yearly[df_yearly.clinic == 'clinic 1']
avg_c1 = clinic_1.deaths.sum() / clinic_1.births.sum() * 100
print(f'Average death rate in clinic 1 is {avg_c1:.3}%.')


clinic_2 = df_yearly[df_yearly.clinic == 'clinic 2']
avg_c2 = clinic_2.deaths.sum() / clinic_2.births.sum() * 100
print(f'Average death rate in clinic 2 is {avg_c2:.3}%.')





fig = px.line(data_frame=df_yearly,
        x='year',
        y='pct_deaths',
        color='clinic',
        title='Plotting the Proportion of Yearly Deaths by Clinic'
             )
fig.show()








# Date when handwashing was made mandatory
handwashing_start = pd.to_datetime('1847-06-01')





df_monthly['pct_deaths']=df_monthly['deaths']/df_monthly['births']


handwashing_not_mandatory = df_monthly[df_monthly['date']<handwashing_start]


handwashing_mandatory=df_monthly[df_monthly['date']>=handwashing_start]


handwashing_not_mandatory.mean()


handwashing_mandatory.mean()


aw_rate = handwashing_mandatory.deaths.sum() / handwashing_mandatory.births.sum() * 100
bw_rate = handwashing_not_mandatory.deaths.sum() / handwashing_not_mandatory.births.sum() * 100
print(f'Average death rate before 1847 was {bw_rate:.4}%')
print(f'Average death rate AFTER 1847 was {aw_rate:.3}%')











roll_df = handwashing_not_mandatory.set_index('date')
roll_df = roll_df.rolling(window=6).mean()


roll_df





plt.figure(figsize=(14,8), dpi=200)
plt.title('Total Number of Monthly Births and Deaths', fontsize=18)

ax1 = plt.gca()
ax2=ax1.twinx()

ax1.grid(color='grey', linestyle='--')

ax1.plot(df_monthly['date'],df_monthly['births'],color='skyblue',linewidth=3)
ax2.plot(df_monthly['date'],df_monthly['deaths'],color='crimson',linestyle='dashed',linewidth=2)

ax1.xaxis.set_major_locator(years)
ax1.xaxis.set_major_formatter(year_fmt)
ax1.xaxis.set_minor_locator(months)

plt.show()


plt.figure(figsize=(14,8), dpi=200)
plt.title('Percentage of Monthly Deaths over Time', fontsize=18)
plt.yticks(fontsize=14)
plt.xticks(fontsize=14, rotation=45)
 
plt.ylabel('Percentage of Deaths', color='crimson', fontsize=18)
 
ax = plt.gca()
ax.xaxis.set_major_locator(years)
ax.xaxis.set_major_formatter(year_fmt)
ax.xaxis.set_minor_locator(months)
ax.set_xlim([df_monthly.date.min(), df_monthly.date.max()])
 
plt.grid(color='grey', linestyle='--')
 
ma_line, = plt.plot(roll_df.index, 
                    roll_df.pct_deaths, 
                    color='crimson', 
                    linewidth=3, 
                    linestyle='--',
                    label='6m Moving Average')
bw_line, = plt.plot(handwashing_not_mandatory.date, 
                    handwashing_not_mandatory.pct_deaths,
                    color='black', 
                    linewidth=1, 
                    linestyle='--', 
                    label='Before Handwashing')
aw_line, = plt.plot(handwashing_mandatory.date, 
                    handwashing_mandatory.pct_deaths, 
                    color='skyblue', 
                    linewidth=3, 
                    marker='o',
                    label='After Handwashing')
 
plt.legend(handles=[ma_line, bw_line, aw_line],
           fontsize=18)
 
plt.show()





# Date when handwashing was made mandatory
handwashing_start = pd.to_datetime('1847-06-01')


# What was the average percentage of monthly deaths before handwashing?
df_monthly[df_monthly['date']<handwashing_start]['pct_deaths'].mean()*100


# What was the average percentage of monthly deaths after handwashing was made obligatory?
df_monthly[df_monthly['date']>=handwashing_start]['pct_deaths'].mean()*100


# By how much did handwashing reduce the average chance of dying in childbirth in percentage terms?
10.504998260908789-2.1093375097254534


# How do these numbers compare to the average for all the 1840s that we calculated earlier?
df_monthly['pct_deaths'].mean()*100


# How many times lower are the chances of dying after handwashing compared to before?
10.504998260908788/2.1093375097254534





avg_prob_before = handwashing_not_mandatory.pct_deaths.mean() * 100
print(f'Chance of death during childbirth before handwashing: {avg_prob_before:.3}%.')
 
avg_prob_after = handwashing_mandatory.pct_deaths.mean() * 100
print(f'Chance of death during childbirth AFTER handwashing: {avg_prob_after:.3}%.')
 
mean_diff = avg_prob_before - avg_prob_after
print(f'Handwashing reduced the monthly proportion of deaths by {mean_diff:.3}%!')
 
times = avg_prob_before / avg_prob_after
print(f'This is a {times:.2}x improvement!')








handwashing_start





df_monthly['Handwashing Condition']=np.where(df_monthly['date']<handwashing_start,'handwashing not mandatory','handwashing  mandatory')


df_monthly.columns


px.box(data_frame=df_monthly,
       x='Handwashing Condition',
       y='pct_deaths')


box = px.box(data_frame=df_monthly,
           x='Handwashing Condition',
           y='pct_deaths',
             color='Handwashing Condition',
             title='How Have the Stats Changed with Handwashing?')
 
box.update_layout(xaxis_title='Washing Hands?',
                  yaxis_title='Percentage of Monthly Deaths',)
 
box.show()





fig = px.histogram(df_monthly,
                   x='date',
                   y='pct_deaths',
                   color='Handwashing Condition',
                   marginal='box',
                   opacity=0.6)
fig.show()


hist = px.histogram(df_monthly, 
                   x='pct_deaths', 
                   color='Handwashing Condition',
                   nbins=30,
                   opacity=0.6,
                   barmode='overlay',
                   histnorm='percent',
                   marginal='box',)
 
hist.update_layout(xaxis_title='Proportion of Monthly Deaths',
                   yaxis_title='Count',)
 
hist.show()








plt.figure(dpi=200)
# By default the distribution estimate includes a negative death rate!
sns.kdeplot(handwashing_not_mandatory.pct_deaths, fill=True)
sns.kdeplot(handwashing_mandatory.pct_deaths, fill=True)
plt.title('Est. Distribution of Monthly Death Rate Before and After Handwashing')
plt.show()


plt.figure(dpi=200)
# By default the distribution estimate includes a negative death rate!
sns.kdeplot(handwashing_not_mandatory.pct_deaths, fill=True,clip=(0,1))
sns.kdeplot(handwashing_mandatory.pct_deaths, fill=True,clip=(0,1))
plt.title('Est. Distribution of Monthly Death Rate Before and After Handwashing')
plt.show()








from scipy import stats


t_stat, p_value = stats.ttest_ind(a=handwashing_not_mandatory.pct_deaths, 
                                  b=handwashing_mandatory.pct_deaths)
print(f'p-palue is {p_value:.10f}')
print(f't-statstic is {t_stat:.4}')






