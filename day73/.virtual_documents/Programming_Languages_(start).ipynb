





# importing libraries 
import pandas as pd
import matplotlib.pyplot as plt













df = pd.read_csv("QueryResults.csv",names=['DATE', 'TAG', 'POSTS'],header=0)





#Lets look at first five rows of dataset
df.head()


# Lets look at last five rows of dataset

df.tail()





df.shape





df.count()


df.columns


df.isnull().sum()








df.groupby(['TAG']).sum()[['POSTS']].sort_values('POSTS',ascending=False)


df.groupby(['TAG']).count()





df['DATE'][1]


type(df['DATE'][0])


# Convert the datatype of DATE column str to time stamp using to_datetime()

df['DATE'] = pd.to_datetime(df['DATE'])


type(df['DATE'][0])


df.head()





df.DATE[1]

















df.head()


df.columns


df.shape





df.groupby('TAG')['POSTS'].count()


df.groupby('TAG')['POSTS'].sum()


test_df = pd.DataFrame({'Age': ['Young', 'Young', 'Young', 'Young', 'Old', 'Old', 'Old', 'Old'],
                        'Actor': ['Jack', 'Arnold', 'Keanu', 'Sylvester', 'Jack', 'Arnold', 'Keanu', 'Sylvester'],
                        'Power': [100, 80, 25, 50, 99, 75, 5, 30]})
test_df


pivoted_df = test_df.pivot(index='Age', columns='Actor', values='Power')
pivoted_df











df.columns


reshaped_df = pd.pivot(data=df,index='DATE',columns='TAG',values='POSTS')


reshaped_df.shape


reshaped_df.columns


reshaped_df.head()


reshaped_df.tail()


reshaped_df.count()


reshaped_df.fillna(0,inplace=True)


reshaped_df.head()


reshaped_df.isna().values.any()








plt.figure(figsize=(16,10))
plt.xticks(fontsize=14)
plt.yticks(fontsize=14)
plt.xlabel('DATE',fontsize=14)
plt.ylabel('Number of Posts',fontsize=14)
plt.ylim(0,35000)
for columns in reshaped_df.columns:
    plt.plot(reshaped_df.index,reshaped_df[columns],linewidth=3,label=reshaped_df[columns].name) # Tadah
plt.legend(fontsize=16)


# The window is number of observations that are averaged
roll_df = reshaped_df.rolling(window=6).mean()

plt.figure(figsize=(16,10))
plt.xticks(fontsize=14)
plt.yticks(fontsize=14)
plt.xlabel('DATE',fontsize=14)
plt.ylabel('Number of Posts', fontsize=14)
plt.ylim(0, 35000)
# plot the roll_df instead
for column in roll_df.columns:
    plt.plot(roll_df.index,roll_df[column],linewidth=3,label=column)

plt.legend(fontsize=16)















