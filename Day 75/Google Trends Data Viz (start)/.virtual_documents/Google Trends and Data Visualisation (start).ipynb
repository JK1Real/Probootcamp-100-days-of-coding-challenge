








import pandas as pd
import matplotlib.pyplot as plt
import matplotlib.dates as mdates





df_tesla = pd.read_csv('TESLA Search Trend vs Price.csv')

df_btc_search = pd.read_csv('Bitcoin Search Trend.csv')
df_btc_price = pd.read_csv('Daily Bitcoin Price.csv')

df_unemployment = pd.read_csv('UE Benefits Search vs UE Rate 2004-19.csv')











df_tesla.head()


df_tesla.shape


df_tesla.columns


df_tesla.sort_values(by='TSLA_WEB_SEARCH',ascending=False).head()


print(f'Largest value for Tesla in Web Search:{df_tesla["TSLA_WEB_SEARCH"].max()} ')
print(f'Smallest value for Tesla in Web Search:{df_tesla["TSLA_WEB_SEARCH"].min()} ')


df_tesla.describe()





df_unemployment.head()


df_unemployment.shape


df_unemployment.columns


df_unemployment.describe()


df_unemployment.sort_values(by='UE_BENEFITS_WEB_SEARCH',ascending=False).head()


print('Largest value for "Unemployemnt Benefits" '
      f'in Web Search: {df_unemployment["UE_BENEFITS_WEB_SEARCH"].max()}')





print(df_btc_price.shape)
df_btc_price.head()


print(df_btc_search.shape)
df_btc_search.head()


print(f'largest BTC News Search: {df_btc_search["BTC_NEWS_SEARCH"].max()}')











print(f'Missing values for Tesla?:\n{df_tesla.isnull().sum()} ')
print(f'Missing values for U/E?: \n{df_unemployment.isna().sum()}')
print(f'Missing values for BTC Search?:\n{df_btc_search.isnull().sum()} ')


print(f'Missing values for BTC price?: \n{df_btc_price.isna().sum()}')


print(f'Number of missing values: 2')


print(f'Missing values for Tesla?: {df_tesla.isna().values.any()}')
print(f'Missing values for U/E?: {df_unemployment.isna().values.any()}')
print(f'Missing values for BTC Search?: {df_btc_search.isna().values.any()}')
print(f'Missing values for BTC price?: {df_btc_price.isna().values.any()}')





df_btc_price = df_btc_price.dropna()


df_btc_price.isna().values.any()











df_btc_price.dtypes


df_btc_price['DATE'] = pd.to_datetime(df_btc_price['DATE'])


df_btc_price.dtypes


df_btc_search.dtypes


df_btc_search['MONTH'] = pd.to_datetime(df_btc_search['MONTH'])


df_btc_search.dtypes


df_tesla.dtypes


df_tesla['MONTH']=pd.to_datetime(df_tesla['MONTH'])


df_tesla.dtypes


df_unemployment.dtypes


df_unemployment['MONTH']=pd.to_datetime(df_unemployment['MONTH'])


df_unemployment.dtypes








df_btc_monthly= df_btc_price.resample(rule='M',on='DATE').last()


df_btc_monthly.head()


print(df_btc_price.shape)
print(df_btc_monthly.shape)
print(df_btc_search.shape)








# Create locators for ticks on the time axis


# Register date converters to avoid warning messages








df_tesla.head()


ax1 = plt.gca()
ax2=ax1.twinx()
ax1.plot(df_tesla['MONTH'],df_tesla['TSLA_USD_CLOSE'],color='#d62110')
ax1.set_xlabel('Year')
ax1.tick_params(axis='y',labelcolor='#d62110')
ax1.set_ylabel('TSLA_USD_CLOSE',color='#d62110')

ax2.plot(df_tesla['MONTH'],df_tesla['TSLA_WEB_SEARCH'],color='#3eb48f')
ax2.tick_params(axis='y',labelcolor='#3eb48f')
ax2.set_ylabel('TSLA_WEB_SEARCH',color='#3eb48f')

















# Create Locators for ticks on the time axis

years=mdates.YearLocator()
months=mdates.MonthLocator()
years_fmt=mdates.DateFormatter('%Y')


plt.figure(figsize=(14,8))

ax1 = plt.gca()
ax2=ax1.twinx()

ax1.set_xlim(df_tesla['MONTH'].min(),df_tesla['MONTH'].max())
ax1.plot(df_tesla['MONTH'],df_tesla['TSLA_USD_CLOSE'],color='#d62110',linewidth=3)
ax1.set_xlabel('Year',fontsize=14)
ax1.tick_params(axis='y',labelcolor='#d62110')
ax1.set_ylabel('TSLA_USD_CLOSE',color='#d62110',fontsize=14)
ax1.set_ylim(0,500)

ax2.plot(df_tesla['MONTH'],df_tesla['TSLA_WEB_SEARCH'],color='#3eb48f',linewidth=3)
ax2.tick_params(axis='y',labelcolor='#3eb48f')
ax2.set_ylabel('TSLA_WEB_SEARCH',color='#3eb48f',fontsize=14)
ax1.tick_params(axis='x',labelrotation=45)


#format the ticks 
ax1.xaxis.set_major_locator(years)
ax1.xaxis.set_major_formatter(years_fmt)
ax1.xaxis.set_minor_locator(months)

plt.show()








print(df_btc_search.shape)
df_btc_search.head()


# df_btc_price convert to df_btc_monthly to get daily to monthly
print(df_btc_price.shape)
print(df_btc_monthly.shape)
df_btc_monthly.head()





plt.figure(figsize=(14,8))
ax1 = plt.gca()
ax2 = ax1.twinx()

ax1.plot(df_btc_search['MONTH'],df_btc_search.values,color='green')
ax2.plot(df_btc_monthly['CLOSE'],color='red')






























