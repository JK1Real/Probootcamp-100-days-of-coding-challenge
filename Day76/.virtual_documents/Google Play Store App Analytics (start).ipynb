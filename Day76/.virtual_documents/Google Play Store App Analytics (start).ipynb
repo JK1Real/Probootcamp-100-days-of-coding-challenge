











import pandas as pd
import plotly.express as px





# Show numeric output in decimal format e.g., 2.15
pd.options.display.float_format = '{:,.2f}'.format





df_apps = pd.read_csv('apps.csv')








df_apps.shape


df_apps.columns


df_apps.sample(5)





df_apps.drop(columns=['Last_Updated', 'Android_Ver'],inplace=True)





df_apps.isnull().sum()


df_apps_clean = df_apps.dropna()





df_apps_clean.duplicated().sum()


df_apps_clean[df_apps_clean['App']=="Instagram"]


df_apps_clean = df_apps_clean.drop_duplicates()


df_apps_clean[df_apps_clean['App']=="Instagram"]


df_apps_clean=df_apps_clean.drop_duplicates(subset=['App', 'Type','Price'])
df_apps_clean[df_apps_clean['App']=="Instagram"]


df_apps_clean.duplicated().sum()


df_apps_clean.shape





df_apps_clean[df_apps_clean['Rating']==df_apps_clean['Rating'].max()].head()











df_apps_clean[df_apps_clean['Size_MBs']==df_apps_clean['Size_MBs'].max()].head()








df_apps_clean.sort_values(by='Reviews',ascending=False).iloc[:50,:].head()


# There are no paid apps
df_apps_clean.sort_values(by='Reviews',ascending=False).iloc[:50,:]['Type'].unique()








ratings = df_apps_clean['Content_Rating'].value_counts()
ratings


fig = px.pie(labels=ratings.index,values=ratings.values,names=ratings.index,title="Content Ratings")
fig.update_traces(textposition="outside",textinfo="percent+label")
fig.show()


fig =px.pie(
    labels=ratings.index,
    values=ratings.values,
    names= ratings.index,
    hole=0.6)
fig.update_traces(textposition="inside",textinfo="percent",textfont_size=15)
fig.show()








#Check the datatype of the Installs column.

df_apps_clean['Installs'].dtypes


df_apps_clean[['App','Installs']].groupby('Installs').count()


df_apps_clean['Installs'] = df_apps_clean['Installs'].map(lambda x:int(x.replace(',','')))
df_apps_clean['Installs'].dtypes


df_apps_clean[df_apps_clean['Installs']==1000000000].shape


df_apps_clean[df_apps_clean['Installs']==1]


df_apps_clean[['App','Installs']].groupby('Installs').count()





df_apps_clean['Price'] = df_apps_clean['Price'].map(lambda x:pd.to_numeric(x.replace('$','')))


df_apps_clean.shape


df_apps_clean.sort_values(by='Price',ascending=False).head(15)








df_apps_clean =  df_apps_clean[df_apps_clean['Price']<250]
df_apps_clean.sort_values(by='Price',ascending=False).head(5)





df_apps_clean.loc[:, 'Revenue_Estimate'] = df_apps_clean['Installs'] * df_apps_clean['Price']


df_apps_clean.info()





df_apps_clean.sort_values(by='Revenue_Estimate',ascending=False).head(10)








df_apps_clean.Category.nunique()


top_10_category = df_apps_clean['Category'].value_counts()[:10]
top_10_category








bar = px.bar(x = top_10_category.index, # index = category name
             y = top_10_category.values)
 
bar.show()






category_installs = df_apps_clean.groupby('Category').agg({'Installs': pd.Series.sum})
category_installs.sort_values('Installs', ascending=True, inplace=True)


category_installs





h_bar = px.bar(x = category_installs.Installs,
               y = category_installs.index,
               orientation='h',
               title='Category Popularity',width=1000,height=1000)
 
h_bar.update_layout(xaxis_title='Number of Downloads', yaxis_title='Category')
h_bar.show()











category_installs = df_apps_clean.groupby('Category').agg({'Installs': pd.Series.sum})
category_installs.shape


cat_number = df_apps_clean.groupby('Category').agg({'App':pd.Series.count})





cat_merged_df = pd.merge(category_installs,cat_number,on='Category',how='inner')


print(f'The dimensions of the DataFrame are: {cat_merged_df.shape}')


cat_merged_df.sort_values('Installs', ascending=False).head()


scatter = px.scatter(data_frame=cat_merged_df,
                     x='App',
                     y='Installs',
                     size='App',
                    hover_name=cat_merged_df.index,
                    color='Installs',
                    width=800,
                    height=500)

scatter.update_layout(xaxis_title="Number of Apps (Lower=More Concentrated)",
                      yaxis_title="Installs",
                      yaxis=dict(type='log'))
scatter.show()

















# Number of genres
df_apps_clean['Genres'].nunique()


# There are multiple genres like Strategy;Education

df_apps_clean['Genres'].value_counts().sort_values(ascending=True)[:5]


# Split the strings on the semi-colon and then .stack them.
stack = df_apps_clean['Genres'].str.split(";",expand=True).stack()
print(f'We now have a single column with shape: {stack.shape}')
num_genres = stack.value_counts()
print(f'Number of genres: {len(num_genres)}')











stack_counts=stack.value_counts().sort_values(ascending=False)


stack_counts.head()




bar = px.bar(
                     x=stack_counts.index[:15],
                     y=stack_counts.values[:15],
                     title="Generated using the color scale:'Agsunset'",
                     hover_name=stack_counts.index[:15],
                     color=stack_counts.values[:15],
                     color_continuous_scale='Agsunset'
            )
bar.update_layout(
    xaxis_title='Genres',
    yaxis_title='Number of Apps',
    coloraxis_showscale=False
)

bar.show()








df_apps_clean.Type.value_counts()


df_free_vs_paid = df_apps_clean.groupby(["Category", "Type"], as_index=False).agg({'App': pd.Series.count})
df_free_vs_paid = df_free_vs_paid.sort_values(by='App',ascending=False)





bar=px.bar(data_frame=df_free_vs_paid,
           x='Category',
           y='App',
           title='Free vs Paid Apps by Category',
           color='Type',
           width=800,
           height=500,
           barmode='group',
           )
bar.update_layout(xaxis_title='Category',
                    yaxis_title='Number of Apps',
                    xaxis={'categoryorder':'total descending'},
                    yaxis=dict(type='log'))
bar.show()





df_apps_clean.head()


boxplot = px.box(
    data_frame=df_apps_clean,
    x='Type',
    y='Installs',
    color='Type',
    notched=True,
    points='all',
    title='How Many Downloads are Paid Apps Giving Up?'
)
boxplot.update_layout(yaxis=dict(type='log'))
boxplot.show()





df_apps_clean.head()


df_paid_apps = df_apps_clean[df_apps_clean['Type'] == 'Paid']
boxplot1 = px.box(
    data_frame=df_paid_apps,
    x='Category',
    y='Revenue_Estimate'
    
)
boxplot1.update_layout(
                    xaxis={'categoryorder':'min ascending'},
                    yaxis=dict(type='log'))
boxplot1.show()


df_paid_apps = df_apps_clean[df_apps_clean['Type'] == 'Paid']
box = px.box(df_paid_apps, 
             x='Category', 
             y='Revenue_Estimate',
             title='How Much Can Paid Apps Earn?')
 
box.update_layout(xaxis_title='Category',
                  yaxis_title='Paid App Ballpark Revenue',
                  xaxis={'categoryorder':'min ascending'},
                  yaxis=dict(type='log'))
 
 
box.show()





df_paid_apps['Price'].median()


df_paid_apps = df_apps_clean[df_apps_clean['Type'] == 'Paid']
box = px.box(df_paid_apps, 
             x='Category', 
             y='Price',
             title='How Much Can Paid Apps Earn?',
            width=700,
            height=400)
 
box.update_layout(xaxis_title='Category',
                  yaxis_title='Paid App Ballpark Price',
                  xaxis={'categoryorder':'max descending'},
                  yaxis=dict(type='log'))
 
 
box.show()


box = px.box(df_paid_apps,
             x='Category',
             y="Price",
             title='Price per Category')
 
box.update_layout(xaxis_title='Category',
                  yaxis_title='Paid App Price',
                  xaxis={'categoryorder':'max descending'},
                  yaxis=dict(type='log'))
 
box.show()






