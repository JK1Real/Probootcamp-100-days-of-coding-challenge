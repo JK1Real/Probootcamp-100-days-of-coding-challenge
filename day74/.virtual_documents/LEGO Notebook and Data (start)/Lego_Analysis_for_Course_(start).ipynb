











import pandas as pd
import matplotlib.pyplot as plt








df = pd.read_csv("data/colors.csv")
df.head()


df.isnull().sum()


df['name'].nunique()








df[df['is_trans']=='f'].shape[0]


df.groupby('is_trans').count() 


df['is_trans'].value_counts()


from collections import Counter
data=Counter(df['is_trans'])


data














sets = pd.read_csv("data/sets.csv")
sets.head()














sets.sort_values(by='year').head()











sets[sets['year']==1949	]


5





sets.sort_values(by='num_parts',ascending=False).head()





sets_per_year= sets.groupby('year')['set_num'].count()


sets_per_year.head()


sets_per_year.tail()


#Given the dataset does not include a full calendar year for 2020, it's best to exclude the last two rows to get a better picture:
plt.plot(sets_per_year.index[:-2],sets_per_year[:-2])





sets.head()








themes_by_year = sets.groupby('year').agg({'theme_id':pd.Series.nunique})


themes_by_year.rename(columns={'theme_id':'nr_themes'}, inplace=True)
themes_by_year.head()


themes_by_year.tail()





plt.plot(themes_by_year.index[:-2],themes_by_year.values[:-2])
plt.xlim(1949,2020)


ax1 = plt.gca() # get current axes
ax2 = ax1.twinx() 

ax1.plot(themes_by_year.index[:-2],themes_by_year.values[:-2])
ax2.plot(sets_per_year.index[:-2],sets_per_year.values[:-2])

ax1.set_xlabel('year')
ax2.set_ylabel('Number of sets',color='green')
ax1.set_ylabel('Number of themes',color='blue')


sets.head()





ax1 = plt.gca() # get current axes
ax2 = ax1.twinx() 

ax1.plot(themes_by_year.index[:-2],themes_by_year.values[:-2])
ax2.plot(sets_per_year.index[:-2],sets_per_year.values[:-2])

ax1.set_xlabel('year')
ax2.set_ylabel('Number of sets',color='green')
ax1.set_ylabel('Number of themes',color='blue')





parts_per_set = sets.groupby('year').agg({'num_parts': 'mean'})


parts_per_set.head()


parts_per_set.tail()








plt.scatter(x=parts_per_set.index[:-2],y=parts_per_set.values[:-2])








set_theme_count = sets['theme_id'].value_counts()
set_theme_count[:5]














themes=pd.read_csv("data/themes.csv")
themes.head()


themes[themes["name"]=='Star Wars']


sets[sets['theme_id']==18]


sets[sets['theme_id']==158]


sets[sets['theme_id']==209]





sets.merge()






