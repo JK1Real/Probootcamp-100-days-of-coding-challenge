








# %pip install --upgrade plotly





import pandas as pd
import numpy as np
import plotly.express as px
import seaborn as sns
import matplotlib.pyplot as plt
import pycountry


# %pip install pycountry --- Used to convert country name to country iso code





pd.options.display.float_format = '{:,.2f}'.format





df_data = pd.read_csv('nobel_prize_data.csv')








df_data.head(2)


df_data.tail(2)


df_data.sample(2)





df_data.describe()


print(f"The column names are {df_data.columns}")


print(f"The shape of df_data is{df_data.shape} and df_data contains {df_data.shape[0]} rows and {df_data.shape[1]} columns")



print(f" The nobel prize was first awarded in {df_data['year'].min()}")


print(f"The latest year included in the dataset is {df_data['year'].max()}")








df_data.duplicated().sum()








null_exist = df_data.isnull().sum()
null_exist


nulls_data = {j:i for i,j in zip(null_exist,null_exist.index) if i!=0 }


null_data = pd.DataFrame({'Column':nulls_data.keys(),'Null_values':nulls_data.values()})


null_data


col_subset = ['year','category', 'laureate_type',
              'birth_date','full_name', 'organization_name']
df_data.loc[df_data.birth_date.isna()][col_subset].head()['full_name']





col_subset = ['year','category', 'laureate_type','full_name', 'organization_name']
df_data.loc[df_data.organization_name.isna()][col_subset].shape











df_data['birth_date'].dtype


df_data['birth_date'] = pd.to_datetime(df_data['birth_date'])





# Lets convert prize share column with values such as 1/2 ,1 to 50,100
def convert(x):
    val = x.split('/')
    per = round(int(val[0])/int(val[1]),4)*100
    return per





df_data['share_pct']=df_data['prize_share'].map(lambda x:convert(x))


df_data['share_pct'].dtype


df_data.head(2)


df_data.dtypes








sex_count=df_data['sex'].value_counts()
sex_count


donut = px.pie(values=sex_count,labels=sex_count.index,names=sex_count.index,hole=0.6)
donut.show()








df_data[df_data['sex']=='Female'].shape


first_3_women = df_data[df_data['sex']=='Female'].sort_values(by='year')[:3]


first_3_women[['year', 'category', 'prize',  'full_name',  'birth_city',
       'birth_country', 'birth_country_current', 'sex']]





nobel_count = pd.DataFrame(df_data['full_name'].value_counts(sort=True))


nobel_count['full_name']=nobel_count.index





nobel_count[nobel_count['count']>1]


df_data[df_data.duplicated(subset=['full_name'])]


is_winner = df_data.duplicated(subset=['full_name'], keep=False)
multiple_winners = df_data[is_winner]
print(f'There are {multiple_winners.full_name.nunique()}' \
      ' winners who were awarded the prize more than once.')


col_subset = ['year', 'category', 'laureate_type', 'full_name']
multiple_winners[col_subset]





category_based_prize = df_data['category'].value_counts()


category_based_prize



bar = px.bar(data_frame=category_based_prize,
             x=category_based_prize.index,
             y=category_based_prize.values,
             color=category_based_prize.values,
             color_continuous_scale='Aggrnyl'
            )
bar.update_layout(
    title="Nobel Prizes Category based",
    yaxis_title="Counts"
)
bar.show()





df_data[df_data['category']=='Economics'].sort_values(by='year').head(3)


df_data[df_data['birth_country']=='India']








d=df_data.groupby(['category','sex']).count()['year'][::-1]


d


d.index.get_level_values(1)


fig = px.bar(x=d.index.get_level_values(0),
       y=d,
       color=d.index.get_level_values(1))

fig.update_layout(
    title="Number of Prizes Awarded per Category split by men and women",
    xaxis_title="Nobel Prize Category",
    yaxis_title="Numberof Prizes"
)


cat_men_women = df_data.groupby(['category', 'sex'], 
                               as_index=False).agg({'prize': pd.Series.count})
cat_men_women.sort_values('prize', ascending=False, inplace=True)
cat_men_women











year_per_prize = df_data.groupby(['year']).agg({'prize':pd.Series.count})





rolling_year_per_prize = year_per_prize.rolling(5).mean()


rolling_year_per_prize.head(10)


np.arange(1900,2025,step=5)


plt.figure(figsize=(10,6))
plt.scatter(year_per_prize.index,
            year_per_prize,
            s=100,
            c='dodgerblue'
        
           )
plt.title('Number of nobel prize awarded per year')
plt.xticks(np.arange(1900,2025,step=5))

plt.tick_params(axis='x',length=5,labelrotation=45)

plt.plot(rolling_year_per_prize.index,
         rolling_year_per_prize,
         color='crimson',
         linewidth=3)


plt.figure(figsize=(16,8), dpi=200)
plt.title('Number of Nobel Prizes Awarded per Year', fontsize=18)
plt.yticks(fontsize=14)
plt.xticks(ticks=np.arange(1900, 2021, step=5), 
           fontsize=14, 
           rotation=45)
 
ax = plt.gca() # get current axis
ax.set_xlim(1900, 2020)
 
ax.scatter(x=year_per_prize.index, 
           y=year_per_prize.values, 
           c='dodgerblue',
           alpha=0.7,
           s=100,)
 
ax.plot(rolling_year_per_prize.index, 
        rolling_year_per_prize.values, 
        c='crimson', 
        linewidth=3,)
 
plt.show()











average_prize_share = df_data.groupby('year').agg({'share_pct':pd.Series.mean})


rolled_average_prize_share = average_prize_share.rolling(window=5).mean()


rolled_average_prize_share


plt.figure(figsize=(16,8), dpi=200)
plt.title('Number of Nobel Prizes Awarded per Year', fontsize=18)
plt.yticks(fontsize=14)
plt.xticks(ticks=np.arange(1900, 2021, step=5), 
           fontsize=14, 
           rotation=45)
 
ax = plt.gca() # get current axis
ax1=ax.twinx()
ax.set_xlim(1900, 2020)
 
ax.scatter(x=year_per_prize.index, 
           y=year_per_prize.values, 
           c='dodgerblue',
           alpha=0.7,
           s=100,)
 
ax.plot(rolling_year_per_prize.index, 
        rolling_year_per_prize.values, 
        c='crimson', 
        linewidth=3,)

# ax1.invert_yaxis()

ax1.plot(rolled_average_prize_share.index,
         rolled_average_prize_share,
         linewidth=3)
plt.show()











top20_countries = df_data.groupby('birth_country_current',as_index=False).agg({'prize':pd.Series.count}).sort_values(by='prize')[-20:]


top20_countries



fig = px.bar(data_frame=top20_countries,
            y='birth_country_current',
            x='prize',
            height=500,
            width=900,
            color='prize'
            )
fig.update_layout(title_text='Top 20 Countries by Number of Prizes',
                 xaxis_title="Number of Prizes",
                 yaxis_title="Country")
fig.show()











top_countries = df_data.groupby(['birth_country_current','ISO'],as_index=False).agg({'prize':pd.Series.count}).sort_values(by='prize')


top_countries.sort_values(by='prize')











fig = px.choropleth(data_frame=top_countries, locations='ISO',
                    color="prize", # lifeExp is a column of gapminder
                    hover_name="birth_country_current", # column to add to hover information
                    color_continuous_scale=px.colors.sequential.matter)
fig.update_layout(coloraxis_showscale=True)
fig.show()





df_countries = df_data.groupby(['birth_country_current', 'ISO'], 
                               as_index=False).agg({'prize': pd.Series.count})
df_countries.sort_values('prize', ascending=False)


world_map = px.choropleth(df_countries,
                          locations='ISO',
                          color='prize', 
                          hover_name='birth_country_current', 
                          color_continuous_scale=px.colors.sequential.matter)
 
world_map.update_layout(coloraxis_showscale=True,)
 
world_map.show()





top_countries.head()





df_data.columns


df = df_data.groupby(['birth_country_current', 'category'],as_index=False).count()[['birth_country_current', 'category','year']]





df = df.rename(columns={'year':'cat_prize'})


country_wise = df.groupby('birth_country_current').agg({'cat_prize':pd.Series.sum})


country_wise.loc['United States of America'].values[0]


df['total_prize'] = df['birth_country_current'].map(lambda x:country_wise.loc[x].values[0])


df = df.sort_values(by='total_prize')


df[df['birth_country_current']=='India']


df[df['birth_country_current']=='Australia']


fig = px.bar(
    data_frame=df[-50:],
    x='cat_prize',
    y='birth_country_current',
    color='category'
)

fig.show()























year_wise_country=df_data.groupby(['year','birth_country_current'],as_index=False).agg({'ISO':pd.Series.count})


year_wise_country=year_wise_country.rename(columns={'ISO':'Prize'})


year_wise_country.columns


year_wise_country['cumsum']=year_wise_country.groupby('birth_country_current')['Prize'].cumsum()


year_wise_country[year_wise_country['birth_country_current']=='France'].head()


fig = px.line(year_wise_country,
              x="year",
              y='cumsum',
              color='birth_country_current',
              title='Life expectancy in Canada')
fig.show()





year_wise_country[year_wise_country['year']==1951]





# Calculate the cumulative number of prizes won by each country in every year. Again, use the birth_country_current of the winner to calculate this.
year_wise_country.head()





df_data.head()


df_data.columns


df_data['organization_name'].unique()


Top_Research_Organisations = df_data.groupby('organization_name',as_index=False).agg({'prize':pd.Series.count}).sort_values('prize')[-20:]


Top_Research_Organisations


fig = px.bar(Top_Research_Organisations, x='prize', y='organization_name',
             color='prize',
             height=600)
fig.update_layout(
                xaxis_title='Prize',
                yaxis_title='Institution'
                    )
fig.show()


# Which organisations make up the top 20?
Top_Research_Organisations['organization_name'].unique()


# How many Nobel prize winners are affiliated with the University of Chicago and Harvard University?
Top_Research_Organisations[Top_Research_Organisations['organization_name']=='University of Chicago']


Top_Research_Organisations[Top_Research_Organisations['organization_name']=='Harvard University']





df_data.columns


top_20_organisation_cities =df_data.groupby('organization_city',as_index=False).agg({'prize':pd.Series.count}).sort_values('prize')[-20:]


top_20_organisation_cities['organization_city'].unique()


top_20_organisation_cities.columns


px.bar(data_frame=top_20_organisation_cities,
      x='prize',
      y='organization_city',
      color='prize',
       height=600
      )











df_data.columns


top_20_birth_cities = df_data.groupby('birth_city',as_index=False).agg({'prize':pd.Series.count}).sort_values('prize')[-20:]


top_20_birth_cities


px.bar(data_frame=top_20_birth_cities,
      x='prize',
      y='birth_city',
      color='prize',
       height=600,
       color_continuous_scale=px.colors.sequential.Plasma
   
      )


# What percentage of the United States prizes came from Nobel laureates born in New York?
(53/281)*100











df_data.columns


number_of_prizes_by_organisation=df_data.groupby(['birth_country_current','organization_name','birth_city'],as_index=False).agg({'prize':pd.Series.count}).sort_values('prize')


number_of_prizes_by_organisation


number_of_prizes_by_organisation.columns


fig = px.sunburst(number_of_prizes_by_organisation,
                  path=['birth_country_current', 'organization_name', 'birth_city'],
                  values='prize', color='birth_country_current',
                 width=800,
                 height=800)
fig.show()


country_city_org = df_data.groupby(by=['organization_country', 
                                       'organization_city', 
                                       'organization_name'], as_index=False).agg({'prize': pd.Series.count})
 
country_city_org = country_city_org.sort_values('prize', ascending=False)


burst = px.sunburst(country_city_org, 
                    path=['organization_country', 'organization_city', 'organization_name'], 
                    values='prize',
                    title='Where do Discoveries Take Place?',
                   )
 
burst.update_layout(xaxis_title='Number of Prizes', 
                    yaxis_title='City',
                    coloraxis_showscale=False)
 
burst.show()








df_data['birth_year']=pd.DatetimeIndex(df_data['birth_date']).year


df_data['winning_age']=df_data['year']-df_data['birth_year']


df_data.head()





df_data.columns


df_data.loc[df_data['winning_age'].idxmax()][['year', 'category', 'prize', 'motivation', 'prize_share',
       'laureate_type', 'full_name', 'birth_date', 'birth_city',
       'birth_country', 'birth_country_current', 'sex', 'share_pct',
       'birth_year', 'winning_age']]


# What are the names of the youngest and oldest Nobel laureate?
df_data.loc[df_data['winning_age'].idxmin()][['year', 'category', 'prize', 'motivation', 'prize_share',
       'laureate_type', 'full_name', 'birth_date', 'birth_city',
       'birth_country', 'birth_country_current', 'sex', 'share_pct',
       'birth_year', 'winning_age']]


# What did they win the prize for?
df_data.loc[df_data['winning_age'].idxmin()][['motivation']]


# What is the average age of a winner?
df_data['winning_age'].mean()


# 75% of laureates are younger than what age when they receive the prize?
df_data['winning_age'].quantile(0.75)


sns.histplot(data=df_data,x='winning_age',bins=20,kde=True)





 # Measures of Central Tendency
df_data['winning_age'].describe()


df_data['winning_age'].skew()


sns.histplot(df_data['winning_age'],bins=50,kde=True)





sns.regplot(x=df_data['year'],y=df_data['winning_age'],lowess=True)











sns.boxplot(data=df_data,
            x='category',
            y='winning_age')


px.box(data_frame=df_data,
       x='category',
       y='winning_age')














sns.lmplot(data=df_data,
            x='year',
            y='winning_age',
            row='category',
            lowess=True
            
)





# Create a third chart with Seaborn. This time use .lmplot() to put all 6 categories on the same chart using the hue parameter.
sns.lmplot(data=df_data,
            x='year',
            y='winning_age',
            hue='category',
            lowess=True
            
)






